{
 "cells": [
  {
   "cell_type": "code",
   "execution_count": 1,
   "metadata": {},
   "outputs": [],
   "source": [
    "from joblib import load\n",
    "import cv2\n",
    "import numpy as np\n",
    "import mediapipe as mp\n",
    "import time"
   ]
  },
  {
   "cell_type": "code",
   "execution_count": 2,
   "metadata": {},
   "outputs": [],
   "source": [
    "model = load('jumpjack.joblib')\n",
    "mpdraw = mp.solutions.drawing_utils\n",
    "mppose = mp.solutions.pose\n",
    "pose = mppose.Pose()\n",
    "cap = cv2.VideoCapture(0)\n",
    "ptime = 0\n",
    "mk = 10\n",
    "sum = 0\n",
    "count = \"count 0\""
   ]
  },
  {
   "cell_type": "code",
   "execution_count": 3,
   "metadata": {},
   "outputs": [],
   "source": [
    "while True:\n",
    "    ret, img = cap.read()\n",
    "    image = cv2.cvtColor(img, cv2.COLOR_BGR2RGB)\n",
    "    results = pose.process(image)\n",
    "    pose_landmarks = results.pose_landmarks\n",
    "    ctime = time.time()\n",
    "    fps = 1/(ctime-ptime)\n",
    "    ptime = ctime\n",
    "    if pose_landmarks:\n",
    "        mpdraw.draw_landmarks(image, results.pose_landmarks, mppose.POSE_CONNECTIONS)\n",
    "        pose_landmarks = [[lmk.x, lmk.y, lmk.z] for lmk in pose_landmarks.landmark]\n",
    "        frame_height, frame_width = img.shape[:2]\n",
    "        pose_landmarks *= np.array([frame_width, frame_height, frame_width])\n",
    "        pose_landmarks = np.around(pose_landmarks, 5).flatten().astype(np.int32).tolist()\n",
    "        pd = str(model.predict([pose_landmarks]))\n",
    "        if pd == \"['jump']\":\n",
    "            mk = mk-1\n",
    "        if mk == 0:\n",
    "            sum = sum+1\n",
    "            count = \"count\"+str(sum)\n",
    "            mk = 8\n",
    "        cv2.putText(image, count, (370, 50), cv2.FONT_HERSHEY_PLAIN,\n",
    "                    3, (255, 0, 0), 3, cv2.LINE_AA)\n",
    "        cv2.putText(image, str(int(fps)), (50, 50), cv2.FONT_HERSHEY_PLAIN,\n",
    "                    3, (255, 0, 0), 3, cv2.LINE_AA)\n",
    "        cv2.putText(image, pd, (150, 50), cv2.FONT_HERSHEY_PLAIN,\n",
    "                    3, (255, 0, 0), 3)\n",
    "    image = cv2.cvtColor(image, cv2.COLOR_RGB2BGR)\n",
    "    cv2.imshow(\"show\", image)\n",
    "    if cv2.waitKey(1) & 0xFF == ord(\"q\"):\n",
    "        break\n",
    "cap.release()\n",
    "cv2.destroyAllWindows()\n"
   ]
  }
 ],
 "metadata": {
  "interpreter": {
   "hash": "17d4cfbb9268c0b467ae9d479337a4fcaaab6dab86c04f8355f43e8f4175c48f"
  },
  "kernelspec": {
   "display_name": "Python 3.9.2 64-bit",
   "name": "python3"
  },
  "language_info": {
   "codemirror_mode": {
    "name": "ipython",
    "version": 3
   },
   "file_extension": ".py",
   "mimetype": "text/x-python",
   "name": "python",
   "nbconvert_exporter": "python",
   "pygments_lexer": "ipython3",
   "version": "3.9.2"
  }
 },
 "nbformat": 4,
 "nbformat_minor": 2
}
